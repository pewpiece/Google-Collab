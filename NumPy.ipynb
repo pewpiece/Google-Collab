{
  "nbformat": 4,
  "nbformat_minor": 0,
  "metadata": {
    "colab": {
      "provenance": [],
      "authorship_tag": "ABX9TyMx97qHfY2i8fIUGWumMY4/",
      "include_colab_link": true
    },
    "kernelspec": {
      "name": "python3",
      "display_name": "Python 3"
    },
    "language_info": {
      "name": "python"
    }
  },
  "cells": [
    {
      "cell_type": "markdown",
      "metadata": {
        "id": "view-in-github",
        "colab_type": "text"
      },
      "source": [
        "<a href=\"https://colab.research.google.com/github/pewpiece/Google-Collab/blob/main/NumPy.ipynb\" target=\"_parent\"><img src=\"https://colab.research.google.com/assets/colab-badge.svg\" alt=\"Open In Colab\"/></a>"
      ]
    },
    {
      "cell_type": "markdown",
      "source": [
        "NumPy coding challange\n"
      ],
      "metadata": {
        "id": "dmZm8EJ1-MK9"
      }
    },
    {
      "cell_type": "markdown",
      "source": [
        "1. Write a Python program to do the following task.\n",
        "\n",
        "Use the NumPy library to create an array (say arr) of the first 25 (exclusive) integers starting from 0.\n",
        "\n",
        "Reshape the array into shape (5, 5).\n",
        "\n",
        "\n",
        "Select the elements present in first two rows (i.e. row 0 and row 1) and last two columns (i.e. column 3 and column 4)"
      ],
      "metadata": {
        "id": "PrFPaE9Q__CT"
      }
    },
    {
      "cell_type": "code",
      "execution_count": null,
      "metadata": {
        "colab": {
          "base_uri": "https://localhost:8080/"
        },
        "id": "xDSV_mbR8kkh",
        "outputId": "279f9890-c1aa-4802-ee71-5a9ddbc70940"
      },
      "outputs": [
        {
          "output_type": "stream",
          "name": "stdout",
          "text": [
            "Original 5x5 array:\n",
            " [[ 0  1  2  3  4]\n",
            " [ 5  6  7  8  9]\n",
            " [10 11 12 13 14]\n",
            " [15 16 17 18 19]\n",
            " [20 21 22 23 24]]\n",
            "\n",
            "Selected elements (first 2 rows, last 2 columns):\n",
            " [[3 4]\n",
            " [8 9]]\n"
          ]
        }
      ],
      "source": [
        "import numpy as np\n",
        "\n",
        "\n",
        "arr = np.arange(25)\n",
        "\n",
        "\n",
        "arr = arr.reshape((5, 5))\n",
        "\n",
        "selected = arr[0:2, 3:5]\n",
        "\n",
        "\n",
        "print(\"Original 5x5 array:\\n\", arr)\n",
        "print(\"\\nSelected elements (first 2 rows, last 2 columns):\\n\", selected)\n"
      ]
    },
    {
      "cell_type": "markdown",
      "source": [
        "2. From the array created in question 1 (i.e. 5 x 5 array), select all the elements at evenly positioned columns and oddly positioned rows. Use stride concept here."
      ],
      "metadata": {
        "id": "tEEwUxjjAEoT"
      }
    },
    {
      "cell_type": "code",
      "source": [
        "import numpy as np\n",
        "\n",
        "# Create and reshape the array\n",
        "arr = np.arange(25).reshape((5, 5))\n",
        "\n",
        "# Use slicing with strides: rows 1 and 3 (start at 1, step 2), columns 0, 2, 4 (start at 0, step 2)\n",
        "selected = arr[1::2, ::2]\n",
        "\n",
        "# Print results\n",
        "print(\"Original 5x5 array:\\n\", arr)\n",
        "print(\"\\nSelected elements (odd rows, even columns):\\n\", selected)\n"
      ],
      "metadata": {
        "colab": {
          "base_uri": "https://localhost:8080/"
        },
        "id": "_35oJ4b__CE3",
        "outputId": "a1772451-5459-4147-e9ba-daad7b169bc5"
      },
      "execution_count": null,
      "outputs": [
        {
          "output_type": "stream",
          "name": "stdout",
          "text": [
            "Original 5x5 array:\n",
            " [[ 0  1  2  3  4]\n",
            " [ 5  6  7  8  9]\n",
            " [10 11 12 13 14]\n",
            " [15 16 17 18 19]\n",
            " [20 21 22 23 24]]\n",
            "\n",
            "Selected elements (odd rows, even columns):\n",
            " [[ 5  7  9]\n",
            " [15 17 19]]\n"
          ]
        }
      ]
    },
    {
      "cell_type": "markdown",
      "source": [
        "Python List and Numpy array"
      ],
      "metadata": {
        "id": "sdJWDqXTAxWh"
      }
    },
    {
      "cell_type": "code",
      "source": [
        "# Python list\n",
        "list1 = [1, 2, 3]\n",
        "list2 = [4, 5, 6]\n",
        "print(list1 + list2)  # Concatenates\n"
      ],
      "metadata": {
        "colab": {
          "base_uri": "https://localhost:8080/"
        },
        "id": "mjfC0E8rAynk",
        "outputId": "20384e1f-456b-4331-ccb6-29fa3dd35f10"
      },
      "execution_count": null,
      "outputs": [
        {
          "output_type": "stream",
          "name": "stdout",
          "text": [
            "[1, 2, 3, 4, 5, 6]\n"
          ]
        }
      ]
    },
    {
      "cell_type": "markdown",
      "source": [
        "Numpy array"
      ],
      "metadata": {
        "id": "u9HLZf79A4ot"
      }
    },
    {
      "cell_type": "code",
      "source": [
        "# NumPy array\n",
        "import numpy as np\n",
        "\n",
        "arr1 = np.array([1, 2, 3])\n",
        "arr2 = np.array([4, 5, 6])\n",
        "print(arr1 + arr2)  # Element-wise addition\n"
      ],
      "metadata": {
        "colab": {
          "base_uri": "https://localhost:8080/"
        },
        "id": "JvnNFJ9LA7KK",
        "outputId": "be5e8e14-6e89-40f1-eebc-26809324476a"
      },
      "execution_count": null,
      "outputs": [
        {
          "output_type": "stream",
          "name": "stdout",
          "text": [
            "[5 7 9]\n"
          ]
        }
      ]
    },
    {
      "cell_type": "markdown",
      "source": [
        "Attributes of an array and creating basic array"
      ],
      "metadata": {
        "id": "ip67xADEBEFR"
      }
    },
    {
      "cell_type": "code",
      "source": [
        "import numpy as np\n",
        "\n",
        "# 1D array\n",
        "arr1 = np.array([1, 2, 3, 4])\n",
        "\n",
        "# 2D array\n",
        "arr2 = np.array([[1, 2], [3, 4]])\n"
      ],
      "metadata": {
        "id": "bmkzJ9y6A_Q8"
      },
      "execution_count": null,
      "outputs": []
    },
    {
      "cell_type": "code",
      "source": [
        "print(\"Dimensions:\", arr2.ndim)\n",
        "print(\"Shape:\", arr2.shape)\n",
        "print(\"Size:\", arr2.size)\n",
        "print(\"Data type:\", arr2.dtype)\n",
        "print(\"Item size:\", arr2.itemsize)\n",
        "print(\"Total bytes:\", arr2.nbytes)\n"
      ],
      "metadata": {
        "colab": {
          "base_uri": "https://localhost:8080/"
        },
        "id": "dR8VxYTsBRe8",
        "outputId": "42f05ad0-4c24-43db-8220-612686981bdd"
      },
      "execution_count": null,
      "outputs": [
        {
          "output_type": "stream",
          "name": "stdout",
          "text": [
            "Dimensions: 2\n",
            "Shape: (2, 2)\n",
            "Size: 4\n",
            "Data type: int64\n",
            "Item size: 8\n",
            "Total bytes: 32\n"
          ]
        }
      ]
    },
    {
      "cell_type": "code",
      "source": [
        "np.zeros((2, 3))       # 2x3 array of 0s\n",
        "np.ones((3, 2))        # 3x2 array of 1s\n",
        "np.eye(3)              # 3x3 identity matrix\n",
        "np.arange(0, 10, 2)    # [0, 2, 4, 6, 8]\n",
        "np.linspace(0, 1, 5)   # 5 evenly spaced numbers between 0 and 1\n"
      ],
      "metadata": {
        "colab": {
          "base_uri": "https://localhost:8080/"
        },
        "id": "XfACRyEoBXDo",
        "outputId": "673e084f-d38d-4b9e-d108-5df14be7e270"
      },
      "execution_count": null,
      "outputs": [
        {
          "output_type": "execute_result",
          "data": {
            "text/plain": [
              "array([0.  , 0.25, 0.5 , 0.75, 1.  ])"
            ]
          },
          "metadata": {},
          "execution_count": 13
        }
      ]
    },
    {
      "cell_type": "markdown",
      "source": [
        "Basic methods on array and reshaping\n",
        "Add, Remove and Sort\n",
        "Reshaping an Array\n"
      ],
      "metadata": {
        "id": "hnGdaLbxBwbM"
      }
    },
    {
      "cell_type": "code",
      "source": [
        "import numpy as np\n",
        "\n",
        "arr = np.array([1, 2, 3])\n",
        "new_arr = np.append(arr, [4, 5])\n",
        "print(new_arr)  # [1 2 3 4 5]\n"
      ],
      "metadata": {
        "colab": {
          "base_uri": "https://localhost:8080/"
        },
        "id": "0mNmmmTqBzWl",
        "outputId": "930f674e-18b4-4c3f-dc76-099a20bc5a97"
      },
      "execution_count": null,
      "outputs": [
        {
          "output_type": "stream",
          "name": "stdout",
          "text": [
            "[1 2 3 4 5]\n"
          ]
        }
      ]
    },
    {
      "cell_type": "code",
      "source": [
        "arr = np.array([1, 2, 3, 4])\n",
        "new_arr = np.delete(arr, 2)  # Removes element at index 2\n",
        "print(new_arr)  # [1 2 4]\n"
      ],
      "metadata": {
        "colab": {
          "base_uri": "https://localhost:8080/"
        },
        "id": "RkvrkqX_B3MO",
        "outputId": "4f8d6c2d-5806-4f1b-a2fb-f4674b9a1ad4"
      },
      "execution_count": null,
      "outputs": [
        {
          "output_type": "stream",
          "name": "stdout",
          "text": [
            "[1 2 4]\n"
          ]
        }
      ]
    },
    {
      "cell_type": "code",
      "source": [
        "arr = np.array([3, 1, 4, 2])\n",
        "sorted_arr = np.sort(arr)\n",
        "print(sorted_arr)  # [1 2 3 4]\n"
      ],
      "metadata": {
        "colab": {
          "base_uri": "https://localhost:8080/"
        },
        "id": "0Fd6Ym3EB4MO",
        "outputId": "9e2821b4-c4ec-474d-af49-4b11b2602b22"
      },
      "execution_count": null,
      "outputs": [
        {
          "output_type": "stream",
          "name": "stdout",
          "text": [
            "[1 2 3 4]\n"
          ]
        }
      ]
    },
    {
      "cell_type": "code",
      "source": [
        "arr = np.arange(12)  # [0, 1, ..., 11]\n",
        "reshaped = arr.reshape((3, 4))  # 3 rows, 4 columns\n",
        "print(reshaped)\n"
      ],
      "metadata": {
        "colab": {
          "base_uri": "https://localhost:8080/"
        },
        "id": "Ph9m9ou5B7E_",
        "outputId": "00a01d87-571f-4a63-bde3-886d228c65a8"
      },
      "execution_count": null,
      "outputs": [
        {
          "output_type": "stream",
          "name": "stdout",
          "text": [
            "[[ 0  1  2  3]\n",
            " [ 4  5  6  7]\n",
            " [ 8  9 10 11]]\n"
          ]
        }
      ]
    },
    {
      "cell_type": "code",
      "source": [
        "arr.flatten()      # Converts multi-D array to 1D\n",
        "arr.T              # Transpose of a 2D array\n",
        "arr.ravel()        # Similar to flatten (returns view if possible)\n"
      ],
      "metadata": {
        "colab": {
          "base_uri": "https://localhost:8080/"
        },
        "id": "Ed1ReRi9B_VB",
        "outputId": "813d4cf3-2a5e-4b2c-e828-9ac1cf36c816"
      },
      "execution_count": null,
      "outputs": [
        {
          "output_type": "execute_result",
          "data": {
            "text/plain": [
              "array([ 0,  1,  2,  3,  4,  5,  6,  7,  8,  9, 10, 11])"
            ]
          },
          "metadata": {},
          "execution_count": 18
        }
      ]
    },
    {
      "cell_type": "markdown",
      "source": [
        "Indexing and Slicing\n",
        "Positive Indexing\n",
        "Positive Indexing: Exercise - Quiz\n",
        "Negative Indexing\n",
        "Negative Indexing: Exercise - Quiz\n",
        "Striding"
      ],
      "metadata": {
        "id": "-19fqtTGCPJP"
      }
    },
    {
      "cell_type": "code",
      "source": [
        "import numpy as np\n",
        "\n",
        "arr = np.array([10, 20, 30, 40, 50])\n",
        "print(arr[0])  # 10\n",
        "print(arr[2])  # 30\n"
      ],
      "metadata": {
        "colab": {
          "base_uri": "https://localhost:8080/"
        },
        "id": "N76x41RFCQqn",
        "outputId": "9faafd4f-fb70-4fba-8ecf-fb76e0505dc3"
      },
      "execution_count": null,
      "outputs": [
        {
          "output_type": "stream",
          "name": "stdout",
          "text": [
            "10\n",
            "30\n"
          ]
        }
      ]
    },
    {
      "cell_type": "code",
      "source": [
        "print(arr[1:4])  # [20 30 40]\n",
        "print(arr[:3])   # [10 20 30]\n",
        "print(arr[2:])   # [30 40 50]\n"
      ],
      "metadata": {
        "colab": {
          "base_uri": "https://localhost:8080/"
        },
        "id": "supwNC19CXhv",
        "outputId": "59ce79a9-319d-4e27-dd7d-b80c9b1b997d"
      },
      "execution_count": null,
      "outputs": [
        {
          "output_type": "stream",
          "name": "stdout",
          "text": [
            "[20 30 40]\n",
            "[10 20 30]\n",
            "[30 40 50]\n"
          ]
        }
      ]
    },
    {
      "cell_type": "code",
      "source": [
        "arr = np.array([100, 200, 300, 400, 500])\n",
        "print(arr[-1])  # 500\n",
        "print(arr[-2])  # 400\n"
      ],
      "metadata": {
        "colab": {
          "base_uri": "https://localhost:8080/"
        },
        "id": "zcRaeJK7CYVE",
        "outputId": "24c02b28-14a4-4e1e-81b9-ce001b450947"
      },
      "execution_count": null,
      "outputs": [
        {
          "output_type": "stream",
          "name": "stdout",
          "text": [
            "500\n",
            "400\n"
          ]
        }
      ]
    },
    {
      "cell_type": "code",
      "source": [
        "print(arr[-3:-1])  # [300 400]\n",
        "print(arr[-4:])    # [200 300 400 500]\n"
      ],
      "metadata": {
        "colab": {
          "base_uri": "https://localhost:8080/"
        },
        "id": "hyLl5f0wCcrv",
        "outputId": "3f709cb9-f30f-428b-b317-775958e2dfc7"
      },
      "execution_count": null,
      "outputs": [
        {
          "output_type": "stream",
          "name": "stdout",
          "text": [
            "[300 400]\n",
            "[200 300 400 500]\n"
          ]
        }
      ]
    },
    {
      "cell_type": "code",
      "source": [
        "arr = np.array([0, 1, 2, 3, 4, 5, 6])\n",
        "print(arr[::2])   # [0 2 4 6] (every 2nd element)\n",
        "print(arr[1::3])  # [1 4] (start at 1, step 3)\n"
      ],
      "metadata": {
        "colab": {
          "base_uri": "https://localhost:8080/"
        },
        "id": "J_i4jM3PCeFr",
        "outputId": "dde835cf-af86-44b6-b3ea-af8f5b6b6c4a"
      },
      "execution_count": null,
      "outputs": [
        {
          "output_type": "stream",
          "name": "stdout",
          "text": [
            "[0 2 4 6]\n",
            "[1 4]\n"
          ]
        }
      ]
    }
  ]
}