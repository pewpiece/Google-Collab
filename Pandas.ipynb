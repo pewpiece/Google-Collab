{
  "nbformat": 4,
  "nbformat_minor": 0,
  "metadata": {
    "colab": {
      "provenance": [],
      "authorship_tag": "ABX9TyOrn49ksDv9s2c4bGwMzqJ4",
      "include_colab_link": true
    },
    "kernelspec": {
      "name": "python3",
      "display_name": "Python 3"
    },
    "language_info": {
      "name": "python"
    }
  },
  "cells": [
    {
      "cell_type": "markdown",
      "metadata": {
        "id": "view-in-github",
        "colab_type": "text"
      },
      "source": [
        "<a href=\"https://colab.research.google.com/github/pewpiece/Google-Collab/blob/main/Pandas.ipynb\" target=\"_parent\"><img src=\"https://colab.research.google.com/assets/colab-badge.svg\" alt=\"Open In Colab\"/></a>"
      ]
    },
    {
      "cell_type": "markdown",
      "source": [
        "Series and DataFrame"
      ],
      "metadata": {
        "id": "un_zRc6kD8sQ"
      }
    },
    {
      "cell_type": "code",
      "execution_count": null,
      "metadata": {
        "colab": {
          "base_uri": "https://localhost:8080/"
        },
        "id": "rkR-LibBDfZc",
        "outputId": "20a00b38-09d1-43fb-b2dd-4b8d50921095"
      },
      "outputs": [
        {
          "output_type": "stream",
          "name": "stdout",
          "text": [
            "a    10\n",
            "b    20\n",
            "c    30\n",
            "d    40\n",
            "dtype: int64\n",
            "20\n",
            "20\n"
          ]
        },
        {
          "output_type": "stream",
          "name": "stderr",
          "text": [
            "<ipython-input-2-2fe762e47b57>:6: FutureWarning: Series.__getitem__ treating keys as positions is deprecated. In a future version, integer keys will always be treated as labels (consistent with DataFrame behavior). To access a value by position, use `ser.iloc[pos]`\n",
            "  print(data[1])       # 20\n"
          ]
        }
      ],
      "source": [
        "import pandas as pd\n",
        "\n",
        "data = pd.Series([10, 20, 30, 40], index=['a', 'b', 'c', 'd'])\n",
        "print(data)\n",
        "print(data['b'])     # 20\n",
        "print(data[1])       # 20"
      ]
    },
    {
      "cell_type": "code",
      "source": [
        "data = {\n",
        "    'Name': ['Alice', 'Bob', 'Charlie'],\n",
        "    'Age': [24, 27, 22],\n",
        "    'City': ['NY', 'LA', 'Chicago']\n",
        "}\n",
        "df = pd.DataFrame(data)\n",
        "print(df)\n"
      ],
      "metadata": {
        "colab": {
          "base_uri": "https://localhost:8080/"
        },
        "id": "k4lcTxEGEYfV",
        "outputId": "9133667b-9346-4d63-b065-57aa61034984"
      },
      "execution_count": null,
      "outputs": [
        {
          "output_type": "stream",
          "name": "stdout",
          "text": [
            "      Name  Age     City\n",
            "0    Alice   24       NY\n",
            "1      Bob   27       LA\n",
            "2  Charlie   22  Chicago\n"
          ]
        }
      ]
    },
    {
      "cell_type": "markdown",
      "source": [
        "Read And Write Files And Some Basic Methods Attributes"
      ],
      "metadata": {
        "id": "wwnxTEt4Ewim"
      }
    },
    {
      "cell_type": "code",
      "source": [
        "import pandas as pd\n",
        "\n",
        "# Read CSV from URL\n",
        "url = \"https://raw.githubusercontent.com/dphi-official/Datasets/master/Standard_Metropolitan_Areas_Data-data.csv\"\n",
        "df = pd.read_csv(url)\n",
        "\n",
        "# Show first 5 rows\n",
        "print(df.head())\n"
      ],
      "metadata": {
        "colab": {
          "base_uri": "https://localhost:8080/"
        },
        "id": "HepYbv0mExPz",
        "outputId": "804665c1-ee55-4aab-fd8b-1a41e57ce762"
      },
      "execution_count": null,
      "outputs": [
        {
          "output_type": "stream",
          "name": "stdout",
          "text": [
            "   land_area  percent_city  percent_senior  physicians  hospital_beds  \\\n",
            "0       1384          78.1            12.3       25627          69678   \n",
            "1       3719          43.9             9.4       13326          43292   \n",
            "2       3553          37.4            10.7        9724          33731   \n",
            "3       3916          29.9             8.8        6402          24167   \n",
            "4       2480          31.5            10.5        8502          16751   \n",
            "\n",
            "   graduates  work_force  income  region  crime_rate  \n",
            "0       50.1      4083.9   72100       1       75.55  \n",
            "1       53.9      3305.9   54542       2       56.03  \n",
            "2       50.6      2066.3   33216       1       41.32  \n",
            "3       52.2      1966.7   32906       2       67.38  \n",
            "4       66.1      1514.5   26573       4       80.19  \n"
          ]
        }
      ]
    },
    {
      "cell_type": "code",
      "source": [
        "# View shape (rows, columns)\n",
        "print(df.shape)\n",
        "\n",
        "# View column names\n",
        "print(df.columns)\n",
        "\n",
        "# View data types\n",
        "print(df.dtypes)\n",
        "\n",
        "# Summary statistics\n",
        "print(df.describe())\n",
        "\n",
        "# Check for missing values\n",
        "print(df.isnull().sum())\n",
        "\n",
        "# Info about the DataFrame\n",
        "print(df.info())\n"
      ],
      "metadata": {
        "colab": {
          "base_uri": "https://localhost:8080/"
        },
        "id": "y0ugK7mLE7k5",
        "outputId": "be687d02-480c-46cd-8816-c936b043537a"
      },
      "execution_count": null,
      "outputs": [
        {
          "output_type": "stream",
          "name": "stdout",
          "text": [
            "(99, 10)\n",
            "Index(['land_area', 'percent_city', 'percent_senior', 'physicians',\n",
            "       'hospital_beds', 'graduates', 'work_force', 'income', 'region',\n",
            "       'crime_rate'],\n",
            "      dtype='object')\n",
            "land_area           int64\n",
            "percent_city      float64\n",
            "percent_senior    float64\n",
            "physicians          int64\n",
            "hospital_beds       int64\n",
            "graduates         float64\n",
            "work_force        float64\n",
            "income              int64\n",
            "region              int64\n",
            "crime_rate        float64\n",
            "dtype: object\n",
            "          land_area  percent_city  percent_senior    physicians  \\\n",
            "count     99.000000     99.000000       99.000000     99.000000   \n",
            "mean    2615.727273     42.518182        9.781818   1828.333333   \n",
            "std     3045.826210     17.348277        2.524547   3192.199763   \n",
            "min       47.000000     13.400000        3.900000    140.000000   \n",
            "25%     1408.000000     30.100000        8.350000    459.000000   \n",
            "50%     1951.000000     39.500000        9.700000    774.000000   \n",
            "75%     2890.500000     52.600000       10.750000   1911.500000   \n",
            "max    27293.000000    100.000000       21.800000  25627.000000   \n",
            "\n",
            "       hospital_beds  graduates   work_force        income     region  \\\n",
            "count      99.000000  99.000000    99.000000     99.000000  99.000000   \n",
            "mean     6345.868687  54.463636   449.366667   6762.505051   2.494949   \n",
            "std      9136.202716   7.773286   610.990885  10393.349660   1.013921   \n",
            "min       481.000000  30.300000    66.900000    769.000000   1.000000   \n",
            "25%      2390.000000  50.250000   150.300000   2003.000000   2.000000   \n",
            "50%      3472.000000  54.000000   257.200000   3510.000000   3.000000   \n",
            "75%      6386.500000  58.300000   436.500000   6283.500000   3.000000   \n",
            "max     69678.000000  72.800000  4083.900000  72100.000000   4.000000   \n",
            "\n",
            "       crime_rate  \n",
            "count   99.000000  \n",
            "mean    55.643030  \n",
            "std     13.470943  \n",
            "min     23.320000  \n",
            "25%     46.115000  \n",
            "50%     56.060000  \n",
            "75%     63.860000  \n",
            "max     85.620000  \n",
            "land_area         0\n",
            "percent_city      0\n",
            "percent_senior    0\n",
            "physicians        0\n",
            "hospital_beds     0\n",
            "graduates         0\n",
            "work_force        0\n",
            "income            0\n",
            "region            0\n",
            "crime_rate        0\n",
            "dtype: int64\n",
            "<class 'pandas.core.frame.DataFrame'>\n",
            "RangeIndex: 99 entries, 0 to 98\n",
            "Data columns (total 10 columns):\n",
            " #   Column          Non-Null Count  Dtype  \n",
            "---  ------          --------------  -----  \n",
            " 0   land_area       99 non-null     int64  \n",
            " 1   percent_city    99 non-null     float64\n",
            " 2   percent_senior  99 non-null     float64\n",
            " 3   physicians      99 non-null     int64  \n",
            " 4   hospital_beds   99 non-null     int64  \n",
            " 5   graduates       99 non-null     float64\n",
            " 6   work_force      99 non-null     float64\n",
            " 7   income          99 non-null     int64  \n",
            " 8   region          99 non-null     int64  \n",
            " 9   crime_rate      99 non-null     float64\n",
            "dtypes: float64(5), int64(5)\n",
            "memory usage: 7.9 KB\n",
            "None\n"
          ]
        }
      ]
    },
    {
      "cell_type": "code",
      "source": [
        "# Save to local CSV\n",
        "df.to_csv(\"metropolitan_data.csv\", index=False)\n"
      ],
      "metadata": {
        "id": "WvIVxolDFAE3"
      },
      "execution_count": null,
      "outputs": []
    },
    {
      "cell_type": "markdown",
      "source": [
        "Indexing, Selecting and Assigning"
      ],
      "metadata": {
        "id": "i8IWsrstFVnr"
      }
    },
    {
      "cell_type": "code",
      "source": [
        "import pandas as pd\n",
        "\n",
        "# Load dataset\n",
        "url = \"https://raw.githubusercontent.com/dphi-official/Datasets/master/Standard_Metropolitan_Areas_Data-data.csv\"\n",
        "sma_data = pd.read_csv(url)\n",
        "\n",
        "# Select the 10th observation (index 9)\n",
        "row_10 = sma_data.iloc[9]\n",
        "\n",
        "# Get the crime_rate for this observation\n",
        "crime_rate = row_10['crime_rate']\n",
        "print(\"Crime rate for the 10th observation:\", crime_rate)\n"
      ],
      "metadata": {
        "colab": {
          "base_uri": "https://localhost:8080/"
        },
        "id": "BUOy-LI1GEe-",
        "outputId": "8279ec13-29ae-419d-a382-c7a95f0f2fe3"
      },
      "execution_count": null,
      "outputs": [
        {
          "output_type": "stream",
          "name": "stdout",
          "text": [
            "Crime rate for the 10th observation: 55.3\n"
          ]
        }
      ]
    },
    {
      "cell_type": "code",
      "source": [
        "import pandas as pd\n",
        "\n",
        "# Load dataset\n",
        "url = \"https://raw.githubusercontent.com/dphi-official/Datasets/master/Standard_Metropolitan_Areas_Data-data.csv\"\n",
        "sma_data = pd.read_csv(url)\n",
        "\n",
        "# Select the 'physicians' column\n",
        "physicians_column = sma_data['physicians']\n",
        "\n",
        "# Get the last value\n",
        "last_physician_value = physicians_column.iloc[-1]\n",
        "\n",
        "print(\"Last value in 'physicians' column:\", last_physician_value)\n"
      ],
      "metadata": {
        "colab": {
          "base_uri": "https://localhost:8080/"
        },
        "id": "PKqjdJr9GM2e",
        "outputId": "e206c8bb-6fce-43b2-94c7-8d711e1158a9"
      },
      "execution_count": null,
      "outputs": [
        {
          "output_type": "stream",
          "name": "stdout",
          "text": [
            "Last value in 'physicians' column: 140\n"
          ]
        }
      ]
    },
    {
      "cell_type": "code",
      "source": [
        "import pandas as pd\n",
        "\n",
        "# Load the dataset\n",
        "url = \"https://raw.githubusercontent.com/dphi-official/Datasets/master/Standard_Metropolitan_Areas_Data-data.csv\"\n",
        "sma_data = pd.read_csv(url)\n",
        "\n",
        "# Select rows with index labels 1, 3, 5, 7, 9, 13 and specific columns using .loc\n",
        "sample_data1 = sma_data.loc[[1, 3, 5, 7, 9, 13], ['land_area', 'work_force', 'income', 'region', 'crime_rate']]\n",
        "\n",
        "# Show the result\n",
        "print(sample_data1)\n",
        "print(\"Shape of sample_data1:\", sample_data1.shape)\n"
      ],
      "metadata": {
        "colab": {
          "base_uri": "https://localhost:8080/"
        },
        "id": "KqGpt7cSGY1J",
        "outputId": "f207e2cf-e3dc-444c-9794-28a295ee8367"
      },
      "execution_count": null,
      "outputs": [
        {
          "output_type": "stream",
          "name": "stdout",
          "text": [
            "    land_area  work_force  income  region  crime_rate\n",
            "1        3719      3305.9   54542       2       56.03\n",
            "3        3916      1966.7   32906       2       67.38\n",
            "5        2815      1541.9   25663       3       58.48\n",
            "7        6794      1272.7   18221       3       64.88\n",
            "9        4647      1032.2   14542       2       55.30\n",
            "13        782       915.2   12591       4       63.20\n",
            "Shape of sample_data1: (6, 5)\n"
          ]
        }
      ]
    },
    {
      "cell_type": "code",
      "source": [
        "import pandas as pd\n",
        "\n",
        "# Load dataset\n",
        "url = \"https://raw.githubusercontent.com/dphi-official/Datasets/master/Standard_Metropolitan_Areas_Data-data.csv\"\n",
        "sma_data = pd.read_csv(url)\n",
        "\n",
        "# Filter where region == 2\n",
        "sample_data2 = sma_data[sma_data['region'] == 2]\n",
        "\n",
        "# Get the number of observations (rows)\n",
        "num_rows = sample_data2.shape[0]\n",
        "\n",
        "print(\"Number of observations in sample_data2:\", num_rows)\n"
      ],
      "metadata": {
        "colab": {
          "base_uri": "https://localhost:8080/"
        },
        "id": "bkwpJieLGmro",
        "outputId": "d4e5e065-5a89-4cd8-9504-fb02f0126c74"
      },
      "execution_count": null,
      "outputs": [
        {
          "output_type": "stream",
          "name": "stdout",
          "text": [
            "Number of observations in sample_data2: 25\n"
          ]
        }
      ]
    },
    {
      "cell_type": "markdown",
      "source": [
        "Summary and Aggregation Functions\n"
      ],
      "metadata": {
        "id": "TtuxGh7YHJ2r"
      }
    },
    {
      "cell_type": "code",
      "source": [
        "# Summary stats for the whole dataframe\n",
        "print(sma_data.describe())\n",
        "\n",
        "# Mean of income column\n",
        "print(sma_data['income'].mean())\n"
      ],
      "metadata": {
        "colab": {
          "base_uri": "https://localhost:8080/"
        },
        "id": "kcxVHRvHG-Ty",
        "outputId": "634e8d9d-e6ad-4af7-dd6e-309eebcb9232"
      },
      "execution_count": null,
      "outputs": [
        {
          "output_type": "stream",
          "name": "stdout",
          "text": [
            "          land_area  percent_city  percent_senior    physicians  \\\n",
            "count     99.000000     99.000000       99.000000     99.000000   \n",
            "mean    2615.727273     42.518182        9.781818   1828.333333   \n",
            "std     3045.826210     17.348277        2.524547   3192.199763   \n",
            "min       47.000000     13.400000        3.900000    140.000000   \n",
            "25%     1408.000000     30.100000        8.350000    459.000000   \n",
            "50%     1951.000000     39.500000        9.700000    774.000000   \n",
            "75%     2890.500000     52.600000       10.750000   1911.500000   \n",
            "max    27293.000000    100.000000       21.800000  25627.000000   \n",
            "\n",
            "       hospital_beds  graduates   work_force        income     region  \\\n",
            "count      99.000000  99.000000    99.000000     99.000000  99.000000   \n",
            "mean     6345.868687  54.463636   449.366667   6762.505051   2.494949   \n",
            "std      9136.202716   7.773286   610.990885  10393.349660   1.013921   \n",
            "min       481.000000  30.300000    66.900000    769.000000   1.000000   \n",
            "25%      2390.000000  50.250000   150.300000   2003.000000   2.000000   \n",
            "50%      3472.000000  54.000000   257.200000   3510.000000   3.000000   \n",
            "75%      6386.500000  58.300000   436.500000   6283.500000   3.000000   \n",
            "max     69678.000000  72.800000  4083.900000  72100.000000   4.000000   \n",
            "\n",
            "       crime_rate  \n",
            "count   99.000000  \n",
            "mean    55.643030  \n",
            "std     13.470943  \n",
            "min     23.320000  \n",
            "25%     46.115000  \n",
            "50%     56.060000  \n",
            "75%     63.860000  \n",
            "max     85.620000  \n",
            "6762.50505050505\n"
          ]
        }
      ]
    },
    {
      "cell_type": "code",
      "source": [
        "# Average crime_rate per region\n",
        "sma_data.groupby('region')['crime_rate'].mean()\n"
      ],
      "metadata": {
        "colab": {
          "base_uri": "https://localhost:8080/",
          "height": 241
        },
        "id": "W6UVHgVqG_8s",
        "outputId": "6856af2b-f7fb-4e43-f65e-591211f33478"
      },
      "execution_count": null,
      "outputs": [
        {
          "output_type": "execute_result",
          "data": {
            "text/plain": [
              "region\n",
              "1    41.951905\n",
              "2    53.974400\n",
              "3    58.265556\n",
              "4    69.455882\n",
              "Name: crime_rate, dtype: float64"
            ],
            "text/html": [
              "<div>\n",
              "<style scoped>\n",
              "    .dataframe tbody tr th:only-of-type {\n",
              "        vertical-align: middle;\n",
              "    }\n",
              "\n",
              "    .dataframe tbody tr th {\n",
              "        vertical-align: top;\n",
              "    }\n",
              "\n",
              "    .dataframe thead th {\n",
              "        text-align: right;\n",
              "    }\n",
              "</style>\n",
              "<table border=\"1\" class=\"dataframe\">\n",
              "  <thead>\n",
              "    <tr style=\"text-align: right;\">\n",
              "      <th></th>\n",
              "      <th>crime_rate</th>\n",
              "    </tr>\n",
              "    <tr>\n",
              "      <th>region</th>\n",
              "      <th></th>\n",
              "    </tr>\n",
              "  </thead>\n",
              "  <tbody>\n",
              "    <tr>\n",
              "      <th>1</th>\n",
              "      <td>41.951905</td>\n",
              "    </tr>\n",
              "    <tr>\n",
              "      <th>2</th>\n",
              "      <td>53.974400</td>\n",
              "    </tr>\n",
              "    <tr>\n",
              "      <th>3</th>\n",
              "      <td>58.265556</td>\n",
              "    </tr>\n",
              "    <tr>\n",
              "      <th>4</th>\n",
              "      <td>69.455882</td>\n",
              "    </tr>\n",
              "  </tbody>\n",
              "</table>\n",
              "</div><br><label><b>dtype:</b> float64</label>"
            ]
          },
          "metadata": {},
          "execution_count": 14
        }
      ]
    },
    {
      "cell_type": "code",
      "source": [
        "# Count cities per region\n",
        "sma_data.groupby('region').size()\n",
        "\n",
        "# Min and max income by region\n",
        "sma_data.groupby('region')['income'].agg(['min', 'max'])\n",
        "\n",
        "# Custom aggregate functions\n",
        "sma_data.groupby('region')['income'].agg(['mean', 'median', 'std'])\n"
      ],
      "metadata": {
        "colab": {
          "base_uri": "https://localhost:8080/",
          "height": 206
        },
        "id": "HcyyKrlGHGI7",
        "outputId": "3782252e-61fe-4319-fa4b-d2831b131c87"
      },
      "execution_count": null,
      "outputs": [
        {
          "output_type": "execute_result",
          "data": {
            "text/plain": [
              "               mean  median           std\n",
              "region                                   \n",
              "1       9225.571429  3860.0  16187.761095\n",
              "2       8206.920000  3725.0  11762.764201\n",
              "3       4806.861111  2976.5   5452.647656\n",
              "4       5737.117647  2747.0   6368.078035"
            ],
            "text/html": [
              "\n",
              "  <div id=\"df-d8ba6db0-ea30-4064-a115-b7a92e83f142\" class=\"colab-df-container\">\n",
              "    <div>\n",
              "<style scoped>\n",
              "    .dataframe tbody tr th:only-of-type {\n",
              "        vertical-align: middle;\n",
              "    }\n",
              "\n",
              "    .dataframe tbody tr th {\n",
              "        vertical-align: top;\n",
              "    }\n",
              "\n",
              "    .dataframe thead th {\n",
              "        text-align: right;\n",
              "    }\n",
              "</style>\n",
              "<table border=\"1\" class=\"dataframe\">\n",
              "  <thead>\n",
              "    <tr style=\"text-align: right;\">\n",
              "      <th></th>\n",
              "      <th>mean</th>\n",
              "      <th>median</th>\n",
              "      <th>std</th>\n",
              "    </tr>\n",
              "    <tr>\n",
              "      <th>region</th>\n",
              "      <th></th>\n",
              "      <th></th>\n",
              "      <th></th>\n",
              "    </tr>\n",
              "  </thead>\n",
              "  <tbody>\n",
              "    <tr>\n",
              "      <th>1</th>\n",
              "      <td>9225.571429</td>\n",
              "      <td>3860.0</td>\n",
              "      <td>16187.761095</td>\n",
              "    </tr>\n",
              "    <tr>\n",
              "      <th>2</th>\n",
              "      <td>8206.920000</td>\n",
              "      <td>3725.0</td>\n",
              "      <td>11762.764201</td>\n",
              "    </tr>\n",
              "    <tr>\n",
              "      <th>3</th>\n",
              "      <td>4806.861111</td>\n",
              "      <td>2976.5</td>\n",
              "      <td>5452.647656</td>\n",
              "    </tr>\n",
              "    <tr>\n",
              "      <th>4</th>\n",
              "      <td>5737.117647</td>\n",
              "      <td>2747.0</td>\n",
              "      <td>6368.078035</td>\n",
              "    </tr>\n",
              "  </tbody>\n",
              "</table>\n",
              "</div>\n",
              "    <div class=\"colab-df-buttons\">\n",
              "\n",
              "  <div class=\"colab-df-container\">\n",
              "    <button class=\"colab-df-convert\" onclick=\"convertToInteractive('df-d8ba6db0-ea30-4064-a115-b7a92e83f142')\"\n",
              "            title=\"Convert this dataframe to an interactive table.\"\n",
              "            style=\"display:none;\">\n",
              "\n",
              "  <svg xmlns=\"http://www.w3.org/2000/svg\" height=\"24px\" viewBox=\"0 -960 960 960\">\n",
              "    <path d=\"M120-120v-720h720v720H120Zm60-500h600v-160H180v160Zm220 220h160v-160H400v160Zm0 220h160v-160H400v160ZM180-400h160v-160H180v160Zm440 0h160v-160H620v160ZM180-180h160v-160H180v160Zm440 0h160v-160H620v160Z\"/>\n",
              "  </svg>\n",
              "    </button>\n",
              "\n",
              "  <style>\n",
              "    .colab-df-container {\n",
              "      display:flex;\n",
              "      gap: 12px;\n",
              "    }\n",
              "\n",
              "    .colab-df-convert {\n",
              "      background-color: #E8F0FE;\n",
              "      border: none;\n",
              "      border-radius: 50%;\n",
              "      cursor: pointer;\n",
              "      display: none;\n",
              "      fill: #1967D2;\n",
              "      height: 32px;\n",
              "      padding: 0 0 0 0;\n",
              "      width: 32px;\n",
              "    }\n",
              "\n",
              "    .colab-df-convert:hover {\n",
              "      background-color: #E2EBFA;\n",
              "      box-shadow: 0px 1px 2px rgba(60, 64, 67, 0.3), 0px 1px 3px 1px rgba(60, 64, 67, 0.15);\n",
              "      fill: #174EA6;\n",
              "    }\n",
              "\n",
              "    .colab-df-buttons div {\n",
              "      margin-bottom: 4px;\n",
              "    }\n",
              "\n",
              "    [theme=dark] .colab-df-convert {\n",
              "      background-color: #3B4455;\n",
              "      fill: #D2E3FC;\n",
              "    }\n",
              "\n",
              "    [theme=dark] .colab-df-convert:hover {\n",
              "      background-color: #434B5C;\n",
              "      box-shadow: 0px 1px 3px 1px rgba(0, 0, 0, 0.15);\n",
              "      filter: drop-shadow(0px 1px 2px rgba(0, 0, 0, 0.3));\n",
              "      fill: #FFFFFF;\n",
              "    }\n",
              "  </style>\n",
              "\n",
              "    <script>\n",
              "      const buttonEl =\n",
              "        document.querySelector('#df-d8ba6db0-ea30-4064-a115-b7a92e83f142 button.colab-df-convert');\n",
              "      buttonEl.style.display =\n",
              "        google.colab.kernel.accessAllowed ? 'block' : 'none';\n",
              "\n",
              "      async function convertToInteractive(key) {\n",
              "        const element = document.querySelector('#df-d8ba6db0-ea30-4064-a115-b7a92e83f142');\n",
              "        const dataTable =\n",
              "          await google.colab.kernel.invokeFunction('convertToInteractive',\n",
              "                                                    [key], {});\n",
              "        if (!dataTable) return;\n",
              "\n",
              "        const docLinkHtml = 'Like what you see? Visit the ' +\n",
              "          '<a target=\"_blank\" href=https://colab.research.google.com/notebooks/data_table.ipynb>data table notebook</a>'\n",
              "          + ' to learn more about interactive tables.';\n",
              "        element.innerHTML = '';\n",
              "        dataTable['output_type'] = 'display_data';\n",
              "        await google.colab.output.renderOutput(dataTable, element);\n",
              "        const docLink = document.createElement('div');\n",
              "        docLink.innerHTML = docLinkHtml;\n",
              "        element.appendChild(docLink);\n",
              "      }\n",
              "    </script>\n",
              "  </div>\n",
              "\n",
              "\n",
              "    <div id=\"df-b3121474-9bc8-4564-a503-5b191c881a3a\">\n",
              "      <button class=\"colab-df-quickchart\" onclick=\"quickchart('df-b3121474-9bc8-4564-a503-5b191c881a3a')\"\n",
              "                title=\"Suggest charts\"\n",
              "                style=\"display:none;\">\n",
              "\n",
              "<svg xmlns=\"http://www.w3.org/2000/svg\" height=\"24px\"viewBox=\"0 0 24 24\"\n",
              "     width=\"24px\">\n",
              "    <g>\n",
              "        <path d=\"M19 3H5c-1.1 0-2 .9-2 2v14c0 1.1.9 2 2 2h14c1.1 0 2-.9 2-2V5c0-1.1-.9-2-2-2zM9 17H7v-7h2v7zm4 0h-2V7h2v10zm4 0h-2v-4h2v4z\"/>\n",
              "    </g>\n",
              "</svg>\n",
              "      </button>\n",
              "\n",
              "<style>\n",
              "  .colab-df-quickchart {\n",
              "      --bg-color: #E8F0FE;\n",
              "      --fill-color: #1967D2;\n",
              "      --hover-bg-color: #E2EBFA;\n",
              "      --hover-fill-color: #174EA6;\n",
              "      --disabled-fill-color: #AAA;\n",
              "      --disabled-bg-color: #DDD;\n",
              "  }\n",
              "\n",
              "  [theme=dark] .colab-df-quickchart {\n",
              "      --bg-color: #3B4455;\n",
              "      --fill-color: #D2E3FC;\n",
              "      --hover-bg-color: #434B5C;\n",
              "      --hover-fill-color: #FFFFFF;\n",
              "      --disabled-bg-color: #3B4455;\n",
              "      --disabled-fill-color: #666;\n",
              "  }\n",
              "\n",
              "  .colab-df-quickchart {\n",
              "    background-color: var(--bg-color);\n",
              "    border: none;\n",
              "    border-radius: 50%;\n",
              "    cursor: pointer;\n",
              "    display: none;\n",
              "    fill: var(--fill-color);\n",
              "    height: 32px;\n",
              "    padding: 0;\n",
              "    width: 32px;\n",
              "  }\n",
              "\n",
              "  .colab-df-quickchart:hover {\n",
              "    background-color: var(--hover-bg-color);\n",
              "    box-shadow: 0 1px 2px rgba(60, 64, 67, 0.3), 0 1px 3px 1px rgba(60, 64, 67, 0.15);\n",
              "    fill: var(--button-hover-fill-color);\n",
              "  }\n",
              "\n",
              "  .colab-df-quickchart-complete:disabled,\n",
              "  .colab-df-quickchart-complete:disabled:hover {\n",
              "    background-color: var(--disabled-bg-color);\n",
              "    fill: var(--disabled-fill-color);\n",
              "    box-shadow: none;\n",
              "  }\n",
              "\n",
              "  .colab-df-spinner {\n",
              "    border: 2px solid var(--fill-color);\n",
              "    border-color: transparent;\n",
              "    border-bottom-color: var(--fill-color);\n",
              "    animation:\n",
              "      spin 1s steps(1) infinite;\n",
              "  }\n",
              "\n",
              "  @keyframes spin {\n",
              "    0% {\n",
              "      border-color: transparent;\n",
              "      border-bottom-color: var(--fill-color);\n",
              "      border-left-color: var(--fill-color);\n",
              "    }\n",
              "    20% {\n",
              "      border-color: transparent;\n",
              "      border-left-color: var(--fill-color);\n",
              "      border-top-color: var(--fill-color);\n",
              "    }\n",
              "    30% {\n",
              "      border-color: transparent;\n",
              "      border-left-color: var(--fill-color);\n",
              "      border-top-color: var(--fill-color);\n",
              "      border-right-color: var(--fill-color);\n",
              "    }\n",
              "    40% {\n",
              "      border-color: transparent;\n",
              "      border-right-color: var(--fill-color);\n",
              "      border-top-color: var(--fill-color);\n",
              "    }\n",
              "    60% {\n",
              "      border-color: transparent;\n",
              "      border-right-color: var(--fill-color);\n",
              "    }\n",
              "    80% {\n",
              "      border-color: transparent;\n",
              "      border-right-color: var(--fill-color);\n",
              "      border-bottom-color: var(--fill-color);\n",
              "    }\n",
              "    90% {\n",
              "      border-color: transparent;\n",
              "      border-bottom-color: var(--fill-color);\n",
              "    }\n",
              "  }\n",
              "</style>\n",
              "\n",
              "      <script>\n",
              "        async function quickchart(key) {\n",
              "          const quickchartButtonEl =\n",
              "            document.querySelector('#' + key + ' button');\n",
              "          quickchartButtonEl.disabled = true;  // To prevent multiple clicks.\n",
              "          quickchartButtonEl.classList.add('colab-df-spinner');\n",
              "          try {\n",
              "            const charts = await google.colab.kernel.invokeFunction(\n",
              "                'suggestCharts', [key], {});\n",
              "          } catch (error) {\n",
              "            console.error('Error during call to suggestCharts:', error);\n",
              "          }\n",
              "          quickchartButtonEl.classList.remove('colab-df-spinner');\n",
              "          quickchartButtonEl.classList.add('colab-df-quickchart-complete');\n",
              "        }\n",
              "        (() => {\n",
              "          let quickchartButtonEl =\n",
              "            document.querySelector('#df-b3121474-9bc8-4564-a503-5b191c881a3a button');\n",
              "          quickchartButtonEl.style.display =\n",
              "            google.colab.kernel.accessAllowed ? 'block' : 'none';\n",
              "        })();\n",
              "      </script>\n",
              "    </div>\n",
              "\n",
              "    </div>\n",
              "  </div>\n"
            ],
            "application/vnd.google.colaboratory.intrinsic+json": {
              "type": "dataframe",
              "summary": "{\n  \"name\": \"sma_data\",\n  \"rows\": 4,\n  \"fields\": [\n    {\n      \"column\": \"region\",\n      \"properties\": {\n        \"dtype\": \"number\",\n        \"std\": 1,\n        \"min\": 1,\n        \"max\": 4,\n        \"num_unique_values\": 4,\n        \"samples\": [\n          2,\n          4,\n          1\n        ],\n        \"semantic_type\": \"\",\n        \"description\": \"\"\n      }\n    },\n    {\n      \"column\": \"mean\",\n      \"properties\": {\n        \"dtype\": \"number\",\n        \"std\": 2066.7539508750197,\n        \"min\": 4806.861111111111,\n        \"max\": 9225.57142857143,\n        \"num_unique_values\": 4,\n        \"samples\": [\n          8206.92,\n          5737.117647058823,\n          9225.57142857143\n        ],\n        \"semantic_type\": \"\",\n        \"description\": \"\"\n      }\n    },\n    {\n      \"column\": \"median\",\n      \"properties\": {\n        \"dtype\": \"number\",\n        \"std\": 548.2527359712855,\n        \"min\": 2747.0,\n        \"max\": 3860.0,\n        \"num_unique_values\": 4,\n        \"samples\": [\n          3725.0,\n          2747.0,\n          3860.0\n        ],\n        \"semantic_type\": \"\",\n        \"description\": \"\"\n      }\n    },\n    {\n      \"column\": \"std\",\n      \"properties\": {\n        \"dtype\": \"number\",\n        \"std\": 5008.390092712402,\n        \"min\": 5452.6476564943205,\n        \"max\": 16187.761094640075,\n        \"num_unique_values\": 4,\n        \"samples\": [\n          11762.764201496177,\n          6368.078035034913,\n          16187.761094640075\n        ],\n        \"semantic_type\": \"\",\n        \"description\": \"\"\n      }\n    }\n  ]\n}"
            }
          },
          "metadata": {},
          "execution_count": 15
        }
      ]
    },
    {
      "cell_type": "code",
      "source": [
        "import pandas as pd\n",
        "\n",
        "# Load the dataset\n",
        "url = \"https://raw.githubusercontent.com/dphi-official/Datasets/master/Standard_Metropolitan_Areas_Data-data.csv\"\n",
        "sma_data = pd.read_csv(url)\n",
        "\n",
        "# Apply mean() on the DataFrame\n",
        "means = sma_data.mean(numeric_only=True)\n",
        "\n",
        "# Print the result\n",
        "print(means)\n"
      ],
      "metadata": {
        "colab": {
          "base_uri": "https://localhost:8080/"
        },
        "id": "4jnIgaCBHZZT",
        "outputId": "095ba7f7-420e-4566-fc6a-9cf5e5f28573"
      },
      "execution_count": null,
      "outputs": [
        {
          "output_type": "stream",
          "name": "stdout",
          "text": [
            "land_area         2615.727273\n",
            "percent_city        42.518182\n",
            "percent_senior       9.781818\n",
            "physicians        1828.333333\n",
            "hospital_beds     6345.868687\n",
            "graduates           54.463636\n",
            "work_force         449.366667\n",
            "income            6762.505051\n",
            "region               2.494949\n",
            "crime_rate          55.643030\n",
            "dtype: float64\n"
          ]
        }
      ]
    },
    {
      "cell_type": "code",
      "source": [
        "import pandas as pd\n",
        "\n",
        "# Load the dataset\n",
        "url = \"https://raw.githubusercontent.com/dphi-official/Datasets/master/Standard_Metropolitan_Areas_Data-data.csv\"\n",
        "sma_data = pd.read_csv(url)\n",
        "\n",
        "# Get unique values in 'region' column\n",
        "unique_regions = sma_data['region'].unique()\n",
        "\n",
        "# Count unique values\n",
        "num_unique_regions = len(unique_regions)\n",
        "\n",
        "print(\"Unique values in 'region':\", unique_regions)\n",
        "print(\"Number of unique regions:\", num_unique_regions)\n"
      ],
      "metadata": {
        "colab": {
          "base_uri": "https://localhost:8080/"
        },
        "id": "-bo5ENEqHeou",
        "outputId": "b06da815-6fc0-4cc3-c44c-6e0d9f5969ae"
      },
      "execution_count": null,
      "outputs": [
        {
          "output_type": "stream",
          "name": "stdout",
          "text": [
            "Unique values in 'region': [1 2 4 3]\n",
            "Number of unique regions: 4\n"
          ]
        }
      ]
    },
    {
      "cell_type": "code",
      "source": [
        "import pandas as pd\n",
        "\n",
        "# Load the dataset\n",
        "url = \"https://raw.githubusercontent.com/dphi-official/Datasets/master/Standard_Metropolitan_Areas_Data-data.csv\"\n",
        "sma_data = pd.read_csv(url)\n",
        "\n",
        "# Get summary statistics\n",
        "summary = sma_data.describe()\n",
        "\n",
        "print(summary)\n"
      ],
      "metadata": {
        "colab": {
          "base_uri": "https://localhost:8080/"
        },
        "id": "MHKieJK1Hsip",
        "outputId": "b4d4222a-ed7c-4239-fc98-c0cd5121f492"
      },
      "execution_count": null,
      "outputs": [
        {
          "output_type": "stream",
          "name": "stdout",
          "text": [
            "          land_area  percent_city  percent_senior    physicians  \\\n",
            "count     99.000000     99.000000       99.000000     99.000000   \n",
            "mean    2615.727273     42.518182        9.781818   1828.333333   \n",
            "std     3045.826210     17.348277        2.524547   3192.199763   \n",
            "min       47.000000     13.400000        3.900000    140.000000   \n",
            "25%     1408.000000     30.100000        8.350000    459.000000   \n",
            "50%     1951.000000     39.500000        9.700000    774.000000   \n",
            "75%     2890.500000     52.600000       10.750000   1911.500000   \n",
            "max    27293.000000    100.000000       21.800000  25627.000000   \n",
            "\n",
            "       hospital_beds  graduates   work_force        income     region  \\\n",
            "count      99.000000  99.000000    99.000000     99.000000  99.000000   \n",
            "mean     6345.868687  54.463636   449.366667   6762.505051   2.494949   \n",
            "std      9136.202716   7.773286   610.990885  10393.349660   1.013921   \n",
            "min       481.000000  30.300000    66.900000    769.000000   1.000000   \n",
            "25%      2390.000000  50.250000   150.300000   2003.000000   2.000000   \n",
            "50%      3472.000000  54.000000   257.200000   3510.000000   3.000000   \n",
            "75%      6386.500000  58.300000   436.500000   6283.500000   3.000000   \n",
            "max     69678.000000  72.800000  4083.900000  72100.000000   4.000000   \n",
            "\n",
            "       crime_rate  \n",
            "count   99.000000  \n",
            "mean    55.643030  \n",
            "std     13.470943  \n",
            "min     23.320000  \n",
            "25%     46.115000  \n",
            "50%     56.060000  \n",
            "75%     63.860000  \n",
            "max     85.620000  \n"
          ]
        }
      ]
    },
    {
      "cell_type": "code",
      "source": [
        "import pandas as pd\n",
        "\n",
        "# Load the dataset\n",
        "url = \"https://raw.githubusercontent.com/dphi-official/Datasets/master/Standard_Metropolitan_Areas_Data-data.csv\"\n",
        "sma_data = pd.read_csv(url)\n",
        "\n",
        "# Select observations where region == 3\n",
        "sample_data1 = sma_data[sma_data['region'] == 3]\n",
        "\n",
        "# Display summary info\n",
        "print(sample_data1.head())\n",
        "print(\"\\nShape:\", sample_data1.shape)\n",
        "print(\"\\nSummary:\\n\", sample_data1.describe())\n"
      ],
      "metadata": {
        "colab": {
          "base_uri": "https://localhost:8080/"
        },
        "id": "rAjZHnQJH_-z",
        "outputId": "8a2b4b61-00eb-4458-ddfb-073a8d102720"
      },
      "execution_count": null,
      "outputs": [
        {
          "output_type": "stream",
          "name": "stdout",
          "text": [
            "    land_area  percent_city  percent_senior  physicians  hospital_beds  \\\n",
            "5        2815          23.1             6.7        7340          16941   \n",
            "6        8360          46.3             8.2        4047          14347   \n",
            "7        6794          60.1             6.3        4562          14333   \n",
            "12       4326          23.6             7.3        3064           9976   \n",
            "16       2045          37.2            21.4        1949           8863   \n",
            "\n",
            "    graduates  work_force  income  region  crime_rate  \n",
            "5        68.3      1541.9   25663       3       58.48  \n",
            "6        53.6      1321.2   18350       3       72.25  \n",
            "7        51.7      1272.7   18221       3       64.88  \n",
            "12       50.4       867.2   12107       3       58.12  \n",
            "16       50.7       543.2    7989       3       64.68  \n",
            "\n",
            "Shape: (36, 10)\n",
            "\n",
            "Summary:\n",
            "          land_area  percent_city  percent_senior   physicians  hospital_beds  \\\n",
            "count    36.000000     36.000000       36.000000    36.000000      36.000000   \n",
            "mean   2485.972222     46.172222        9.283333  1313.722222    4962.777778   \n",
            "std    1653.813800     19.101019        3.458199  1459.654903    3879.692625   \n",
            "min     654.000000     14.500000        3.900000   140.000000     481.000000   \n",
            "25%    1517.000000     31.350000        7.600000   509.750000    2483.500000   \n",
            "50%    2018.000000     47.000000        8.850000   767.000000    3876.000000   \n",
            "75%    2911.000000     59.725000        9.975000  1583.500000    5811.750000   \n",
            "max    8360.000000     90.700000       21.800000  7340.000000   16941.000000   \n",
            "\n",
            "       graduates   work_force        income  region  crime_rate  \n",
            "count  36.000000    36.000000     36.000000    36.0   36.000000  \n",
            "mean   51.002778   343.797222   4806.861111     3.0   58.265556  \n",
            "std     7.328164   354.312228   5452.647656     0.0   10.155822  \n",
            "min    30.300000    66.900000    769.000000     3.0   36.360000  \n",
            "25%    46.950000   146.200000   1940.750000     3.0   52.447500  \n",
            "50%    50.950000   230.550000   2976.500000     3.0   58.725000  \n",
            "75%    55.175000   366.950000   4829.500000     3.0   64.922500  \n",
            "max    70.700000  1541.900000  25663.000000     3.0   76.350000  \n"
          ]
        }
      ]
    },
    {
      "cell_type": "code",
      "source": [
        "import pandas as pd\n",
        "\n",
        "# Load dataset\n",
        "url = \"https://raw.githubusercontent.com/dphi-official/Datasets/master/Standard_Metropolitan_Areas_Data-data.csv\"\n",
        "sma_data = pd.read_csv(url)\n",
        "\n",
        "# Count occurrences of each unique value in 'region'\n",
        "region_counts = sma_data['region'].value_counts()\n",
        "\n",
        "print(region_counts)\n"
      ],
      "metadata": {
        "colab": {
          "base_uri": "https://localhost:8080/"
        },
        "id": "ahhs9M6QIEII",
        "outputId": "bac3d0d1-6056-4bbe-be1c-7bcd6dcef04f"
      },
      "execution_count": null,
      "outputs": [
        {
          "output_type": "stream",
          "name": "stdout",
          "text": [
            "region\n",
            "3    36\n",
            "2    25\n",
            "1    21\n",
            "4    17\n",
            "Name: count, dtype: int64\n"
          ]
        }
      ]
    },
    {
      "cell_type": "code",
      "source": [
        "import pandas as pd\n",
        "\n",
        "# Load the dataset\n",
        "url = \"https://raw.githubusercontent.com/dphi-official/Datasets/master/Standard_Metropolitan_Areas_Data-data.csv\"\n",
        "sma_data = pd.read_csv(url)\n",
        "\n",
        "# Sort by 'crime_rate' in descending order\n",
        "sorted_data1 = sma_data.sort_values(by='crime_rate', ascending=False)\n",
        "\n",
        "# Check the first 5 rows\n",
        "top_5 = sorted_data1.head(5)\n",
        "\n",
        "# Display region of top 5\n",
        "print(top_5[['crime_rate', 'region']])\n",
        "print(\"\\nUnique region in top 5:\", top_5['region'].unique())\n"
      ],
      "metadata": {
        "colab": {
          "base_uri": "https://localhost:8080/"
        },
        "id": "2-wJ8JP1IxQQ",
        "outputId": "1053c089-9371-4b6e-bf1f-0456da5f8afc"
      },
      "execution_count": null,
      "outputs": [
        {
          "output_type": "stream",
          "name": "stdout",
          "text": [
            "    crime_rate  region\n",
            "20       85.62       4\n",
            "74       82.68       4\n",
            "53       80.94       4\n",
            "4        80.19       4\n",
            "67       78.10       4\n",
            "\n",
            "Unique region in top 5: [4]\n"
          ]
        }
      ]
    },
    {
      "cell_type": "code",
      "source": [
        "import pandas as pd\n",
        "\n",
        "# Load the Titanic dataset\n",
        "url = \"https://raw.githubusercontent.com/dphi-official/Datasets/master/titanic_data.csv\"\n",
        "titanic_df = pd.read_csv(url)\n",
        "\n",
        "# Check for missing values in each column\n",
        "missing_data = titanic_df.isnull().sum()\n",
        "\n",
        "# Display columns with missing values\n",
        "missing_columns = missing_data[missing_data > 0]\n",
        "print(missing_columns)\n"
      ],
      "metadata": {
        "colab": {
          "base_uri": "https://localhost:8080/"
        },
        "id": "4CI6gHcCIye4",
        "outputId": "5b247944-d980-43ac-a41e-6d6d39dc69da"
      },
      "execution_count": null,
      "outputs": [
        {
          "output_type": "stream",
          "name": "stdout",
          "text": [
            "Age         177\n",
            "Cabin       687\n",
            "Embarked      2\n",
            "dtype: int64\n"
          ]
        }
      ]
    },
    {
      "cell_type": "code",
      "source": [
        "import pandas as pd\n",
        "\n",
        "# Load dataset\n",
        "url = \"https://raw.githubusercontent.com/dphi-official/Datasets/master/titanic_data.csv\"\n",
        "df = pd.read_csv(url)\n",
        "\n",
        "age_mean_before = round(df['Age'].mean(), 2)  # e.g., 29.70\n",
        "df['Age'].fillna(age_mean_before, inplace=True)\n",
        "age_mean_after = round(df['Age'].mean(), 2)\n",
        "\n",
        "print(age_mean_before)  # e.g., 29.70\n",
        "print(age_mean_after)   # e.g., 29.70\n"
      ],
      "metadata": {
        "colab": {
          "base_uri": "https://localhost:8080/"
        },
        "id": "e0wQ0FZlJjiV",
        "outputId": "758b96f1-bff7-4bb2-f656-038403219d22"
      },
      "execution_count": null,
      "outputs": [
        {
          "output_type": "stream",
          "name": "stdout",
          "text": [
            "29.7\n",
            "29.7\n"
          ]
        },
        {
          "output_type": "stream",
          "name": "stderr",
          "text": [
            "<ipython-input-25-1b2422844e72>:8: FutureWarning: A value is trying to be set on a copy of a DataFrame or Series through chained assignment using an inplace method.\n",
            "The behavior will change in pandas 3.0. This inplace method will never work because the intermediate object on which we are setting values always behaves as a copy.\n",
            "\n",
            "For example, when doing 'df[col].method(value, inplace=True)', try using 'df.method({col: value}, inplace=True)' or df[col] = df[col].method(value) instead, to perform the operation inplace on the original object.\n",
            "\n",
            "\n",
            "  df['Age'].fillna(age_mean_before, inplace=True)\n"
          ]
        }
      ]
    },
    {
      "cell_type": "code",
      "source": [
        "import pandas as pd\n",
        "\n",
        "# Load dataset\n",
        "url = \"https://raw.githubusercontent.com/dphi-official/Datasets/master/titanic_data.csv\"\n",
        "df = pd.read_csv(url)\n",
        "\n",
        "# Value counts before filling\n",
        "counts_before = df['Embarked'].value_counts()\n",
        "\n",
        "# Most frequent category\n",
        "most_common = counts_before.idxmax()  # Usually 'S'\n",
        "\n",
        "# Fill missing values with most common category\n",
        "df['Embarked'].fillna(most_common, inplace=True)\n",
        "\n",
        "# Value counts after filling\n",
        "counts_after = df['Embarked'].value_counts()\n",
        "\n",
        "# Compare before and after\n",
        "print(\"Before filling:\\n\", counts_before)\n",
        "print(\"\\nAfter filling:\\n\", counts_after)\n"
      ],
      "metadata": {
        "colab": {
          "base_uri": "https://localhost:8080/"
        },
        "id": "x-Gszdw3KGSm",
        "outputId": "781a3d5f-5fe7-492e-87e2-026a39440331"
      },
      "execution_count": null,
      "outputs": [
        {
          "output_type": "stream",
          "name": "stdout",
          "text": [
            "Before filling:\n",
            " Embarked\n",
            "S    644\n",
            "C    168\n",
            "Q     77\n",
            "Name: count, dtype: int64\n",
            "\n",
            "After filling:\n",
            " Embarked\n",
            "S    646\n",
            "C    168\n",
            "Q     77\n",
            "Name: count, dtype: int64\n"
          ]
        },
        {
          "output_type": "stream",
          "name": "stderr",
          "text": [
            "<ipython-input-26-2fe92f274ee3>:14: FutureWarning: A value is trying to be set on a copy of a DataFrame or Series through chained assignment using an inplace method.\n",
            "The behavior will change in pandas 3.0. This inplace method will never work because the intermediate object on which we are setting values always behaves as a copy.\n",
            "\n",
            "For example, when doing 'df[col].method(value, inplace=True)', try using 'df.method({col: value}, inplace=True)' or df[col] = df[col].method(value) instead, to perform the operation inplace on the original object.\n",
            "\n",
            "\n",
            "  df['Embarked'].fillna(most_common, inplace=True)\n"
          ]
        }
      ]
    }
  ]
}